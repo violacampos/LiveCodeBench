{
 "cells": [
  {
   "cell_type": "code",
   "execution_count": 1,
   "id": "6d10fbbd",
   "metadata": {},
   "outputs": [],
   "source": [
    "import orjson\n",
    "import ijson"
   ]
  },
  {
   "cell_type": "code",
   "execution_count": 2,
   "id": "810cf506",
   "metadata": {},
   "outputs": [],
   "source": [
    "data_path = \"output/Qwen3-Coder-30B-A3B/Scenario.codegeneration_10_0.2_eval_all.json\"\n",
    "out_path = \"output/Qwen3-Coder-30B-A3B/Scenario.codegeneration_10_0.2_eval_all.jsonl\"\n",
    "jsonlines = \"output/Qwen3-Coder-30B-A3B/codegeneration_10_0.2_eval_all.jsonl\""
   ]
  },
  {
   "cell_type": "code",
   "execution_count": 6,
   "id": "30960531",
   "metadata": {},
   "outputs": [],
   "source": [
    "\n",
    "\n",
    "# convert to jsonl\n",
    "def clean_logprobs(logprobs_list):\n",
    "    for sequence in logprobs_list:\n",
    "        for token in sequence:\n",
    "            for token_id in token:\n",
    "                token[token_id]['logprob'] = str(token[token_id]['logprob'])\n",
    "    return logprobs_list\n",
    "\n",
    "with open(data_path, \"rb\") as infile, open(out_path, \"wb\") as outfile:\n",
    "    for item in ijson.items(infile, \"item\"):  # iterate over each object in array\n",
    "        item['pass@1'] =str(item['pass@1'])\n",
    "        item['logprobs_list'] = clean_logprobs(item['logprobs_list'])\n",
    "        line = orjson.dumps(item) + b\"\\n\"\n",
    "        outfile.write(line)\n",
    "\n",
    "    \n"
   ]
  },
  {
   "cell_type": "code",
   "execution_count": null,
   "id": "86a5a95b",
   "metadata": {},
   "outputs": [],
   "source": [
    "from numpy import mean\n",
    "\n",
    "\n",
    "def top20_logprob_sum_f(sample: dict):\n",
    "    for sequence in sample[\"logprobs_list\"]:\n",
    "        top20 = []\n",
    "        count = 0                               #count = Token-Nr. (beginnend mit 0)\n",
    "        for token in sequence:\n",
    "            top20.append(0)\n",
    "            for k in token.values():\n",
    "                if (k[\"rank\"]>= 1) and (k[\"rank\"]<= 20):\n",
    "                    top20[count]+= float (k[\"logprob\"])\n",
    "            count += 1\n",
    "\n",
    "    return top20\n",
    "    \n",
    "\n",
    "\n",
    "def prepare_sample(sample: dict):\n",
    "    logprobs = [\n",
    "                [\n",
    "                    k[\"logprob\"] for d in sequence for k in filter(lambda x: x[\"rank\"] == 1, d.values())\n",
    "                ] for sequence in sample[\"logprobs_list\"]\n",
    "            ]\n",
    "    top20_logprob_sum = top20_logprob_sum_f(sample)\n",
    "    return {\n",
    "        \"id\": sample[\"question_id\"],\n",
    "        \"name\": sample[\"question_title\"],\n",
    "        \"prompt\": sample[\"question_content\"],\n",
    "        \"program\": sample[\"code_list\"],\n",
    "        \"language\": 'python',\n",
    "        \"output_size\": [len(output) for output in sample[\"output_list\"]],\n",
    "        \"token_count\": [len(logprobs) for logprobs in sample[\"logprobs_list\"]],\n",
    "        \"is_correct\": sample[\"graded_list\"],\n",
    "        \"token_logprobs\": logprobs,\n",
    "        'cumulative_logprob': [sum([float(x) for x in l]) for l in logprobs],\n",
    "        \"top_logprobs_first_token\": top20_logprob_sum[0],\n",
    "        \"top_logprobs_first_20_tokens\": float (mean(top20_logprob_sum[0:19])),\n",
    "        \"top_logprobs_last_token\": top20_logprob_sum[-1],\n",
    "        \"top_logprobs_last_20_tokens\": float (mean(top20_logprob_sum[(len(top20_logprob_sum)-21):(len(top20_logprob_sum)-1)])),\n",
    "        \"difficulty\": sample[\"difficulty\"],\n",
    "    }"
   ]
  },
  {
   "cell_type": "code",
   "execution_count": null,
   "id": "e94d545c",
   "metadata": {},
   "outputs": [],
   "source": [
    "i=0\n",
    "results = []\n",
    "with open(jsonlines, \"rb\") as f:   \n",
    "    for line in f:\n",
    "        if i>=20:\n",
    "            break\n",
    "        obj = orjson.loads(line)\n",
    "        sample = prepare_sample(obj)\n",
    "        results.append(sample)\n",
    "        print(sample)\n",
    "        i+=1"
   ]
  },
  {
   "cell_type": "code",
   "execution_count": 27,
   "id": "d91f7d53",
   "metadata": {},
   "outputs": [],
   "source": [
    "evaluation_data_path = \"output/Qwen3-Coder-30B-A3B/preprocessed/codegeneration_10_0.2.jsonl\"\n",
    "\n",
    "with open(evaluation_data_path, \"wb\") as outfile:\n",
    "    for item in results:     \n",
    "        line = orjson.dumps(item) + b\"\\n\"\n",
    "        outfile.write(line)"
   ]
  },
  {
   "cell_type": "markdown",
   "id": "dacf46b1",
   "metadata": {},
   "source": [
    "# Groups\n",
    "- loc\n",
    "- cyclomatic complexity\n",
    "- len output\n",
    "- len code\n",
    "- difficulty\n",
    "- len prompt\n",
    "- language\n",
    "\n",
    "(identifier count, etc)\n",
    "\n",
    "# Metrics\n",
    "- mean logprob\n",
    "@ Katharina:\n",
    "- sum top-20 logprobs (last n tokens, last token, last code token, first token)\n",
    "    - 1) last 20 tokens (Konfigurierbar für n)\n",
    "    - 2) last token\n",
    "    - 3) first 20 tokens\n",
    "    - 4) last 20 code tokens\n",
    "    - 5) last code token\n",
    "    - 6) first code token"
   ]
  }
 ],
 "metadata": {
  "kernelspec": {
   "display_name": "LiveCodeBench",
   "language": "python",
   "name": "python3"
  },
  "language_info": {
   "codemirror_mode": {
    "name": "ipython",
    "version": 3
   },
   "file_extension": ".py",
   "mimetype": "text/x-python",
   "name": "python",
   "nbconvert_exporter": "python",
   "pygments_lexer": "ipython3",
   "version": "3.11.2"
  }
 },
 "nbformat": 4,
 "nbformat_minor": 5
}
